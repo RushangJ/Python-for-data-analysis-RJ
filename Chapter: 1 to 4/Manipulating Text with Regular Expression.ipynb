{
 "cells": [
  {
   "cell_type": "code",
   "execution_count": 1,
   "metadata": {},
   "outputs": [],
   "source": [
    "# We'll import the re module, which is where python stores regular expressuin libraries.\n",
    "import re"
   ]
  },
  {
   "cell_type": "code",
   "execution_count": 6,
   "metadata": {},
   "outputs": [
    {
     "name": "stdout",
     "output_type": "stream",
     "text": [
      "Wonderful!\n"
     ]
    }
   ],
   "source": [
    "# There are several main processing functions in re that you might use. match(): checks for a match that os at the\n",
    "# at the beginning of the string and return boolean.search(): checks for a match anywhere in the string, and return a \n",
    "# boolean.\n",
    "\n",
    "text= \"This is a good day.\"\n",
    "\n",
    "if re.search(\"good\",text):\n",
    "    print(\"Wonderful!\")\n",
    "else:\n",
    "    print(\"Alas :(\")"
   ]
  },
  {
   "cell_type": "code",
   "execution_count": 9,
   "metadata": {},
   "outputs": [
    {
     "data": {
      "text/plain": [
       "['', ' works diligently ', ' gets good grades. Our Student ', ' is Succesful']"
      ]
     },
     "execution_count": 9,
     "metadata": {},
     "output_type": "execute_result"
    }
   ],
   "source": [
    "# findall() and split() functions will parse the string for us and retuen chunks.\n",
    "text= \"Amy works diligently Amy gets good grades. Our Student Amy is Succesful\"\n",
    "\n",
    "re.split(\"Amy\",text)"
   ]
  },
  {
   "cell_type": "code",
   "execution_count": 10,
   "metadata": {},
   "outputs": [
    {
     "data": {
      "text/plain": [
       "['Amy', 'Amy', 'Amy']"
      ]
     },
     "execution_count": 10,
     "metadata": {},
     "output_type": "execute_result"
    }
   ],
   "source": [
    "re.findall(\"Amy\",text)"
   ]
  },
  {
   "cell_type": "code",
   "execution_count": 11,
   "metadata": {},
   "outputs": [
    {
     "data": {
      "text/plain": [
       "<re.Match object; span=(0, 3), match='Amy'>"
      ]
     },
     "execution_count": 11,
     "metadata": {},
     "output_type": "execute_result"
    }
   ],
   "source": [
    "# The regex specification standard defines. a markup language to describe patterns in text.\n",
    "# Anchors specify the start and/or the end of the string.\n",
    "\n",
    "text= \"Amy works diligently Amy gets good grades. Our Student Amy is Succesful\"\n",
    "\n",
    "re.search(\"Amy\",text)"
   ]
  },
  {
   "cell_type": "markdown",
   "metadata": {},
   "source": [
    "# Patterns and Character Classes"
   ]
  },
  {
   "cell_type": "code",
   "execution_count": 12,
   "metadata": {},
   "outputs": [
    {
     "data": {
      "text/plain": [
       "['B', 'B', 'B', 'B', 'B', 'B']"
      ]
     },
     "execution_count": 12,
     "metadata": {},
     "output_type": "execute_result"
    }
   ],
   "source": [
    "grades=\"AACBBABCAACCBBABC\" \n",
    "\n",
    "#\"How may B's\" were in the grade list?\n",
    "re.findall(\"B\",grades)"
   ]
  },
  {
   "cell_type": "code",
   "execution_count": 13,
   "metadata": {},
   "outputs": [
    {
     "data": {
      "text/plain": [
       "['A', 'A', 'B', 'B', 'A', 'B', 'A', 'A', 'B', 'B', 'A', 'B']"
      ]
     },
     "execution_count": 13,
     "metadata": {},
     "output_type": "execute_result"
    }
   ],
   "source": [
    "# If we want to count A and B\n",
    "re.findall(\"[AB]\",grades)"
   ]
  },
  {
   "cell_type": "code",
   "execution_count": 14,
   "metadata": {},
   "outputs": [
    {
     "data": {
      "text/plain": [
       "['AC', 'AB', 'AC', 'AB']"
      ]
     },
     "execution_count": 14,
     "metadata": {},
     "output_type": "execute_result"
    }
   ],
   "source": [
    "# Where students recive A followed by a B or a C\n",
    "re.findall(\"[A][B-C]\",grades)"
   ]
  },
  {
   "cell_type": "code",
   "execution_count": 15,
   "metadata": {},
   "outputs": [
    {
     "data": {
      "text/plain": [
       "['AC', 'AB', 'AC', 'AB']"
      ]
     },
     "execution_count": 15,
     "metadata": {},
     "output_type": "execute_result"
    }
   ],
   "source": [
    "re.findall(\"AB|AC\",grades)"
   ]
  },
  {
   "cell_type": "code",
   "execution_count": 16,
   "metadata": {},
   "outputs": [
    {
     "data": {
      "text/plain": [
       "['C', 'B', 'B', 'B', 'C', 'C', 'C', 'B', 'B', 'B', 'C']"
      ]
     },
     "execution_count": 16,
     "metadata": {},
     "output_type": "execute_result"
    }
   ],
   "source": [
    "# If we want to parse out only the grade which were not A's\n",
    "re.findall(\"[^A]\",grades)"
   ]
  },
  {
   "cell_type": "markdown",
   "metadata": {},
   "source": [
    "# Quantifiers"
   ]
  },
  {
   "cell_type": "code",
   "execution_count": 18,
   "metadata": {},
   "outputs": [
    {
     "data": {
      "text/plain": [
       "['AA', 'AA']"
      ]
     },
     "execution_count": 18,
     "metadata": {},
     "output_type": "execute_result"
    }
   ],
   "source": [
    "# Quantifiers are the number of times you want to pattern to be matched in order to match. The most basic\n",
    "# quantifier is expressed as e{m,n}. Where e is the expression or character we are matching, m is the minimum\n",
    "# number of times you want it to matched, and n is the maximum number of times the item could be matched.\n",
    "\n",
    "re.findall(\"A{2,10}\",grades)"
   ]
  },
  {
   "cell_type": "code",
   "execution_count": 20,
   "metadata": {},
   "outputs": [
    {
     "data": {
      "text/plain": [
       "['AA', 'AA']"
      ]
     },
     "execution_count": 20,
     "metadata": {},
     "output_type": "execute_result"
    }
   ],
   "source": [
    "# using single values and just repeating the pattern\n",
    "re.findall(\"A{1,1}A{1,1}\",grades)"
   ]
  },
  {
   "cell_type": "code",
   "execution_count": 21,
   "metadata": {},
   "outputs": [
    {
     "data": {
      "text/plain": [
       "[]"
      ]
     },
     "execution_count": 21,
     "metadata": {},
     "output_type": "execute_result"
    }
   ],
   "source": [
    " re.findall(\"AA{2,2}\",grades)"
   ]
  },
  {
   "cell_type": "code",
   "execution_count": 22,
   "metadata": {},
   "outputs": [
    {
     "data": {
      "text/plain": [
       "['AA', 'AA']"
      ]
     },
     "execution_count": 22,
     "metadata": {},
     "output_type": "execute_result"
    }
   ],
   "source": [
    "re.findall(\"AA\",grades)"
   ]
  },
  {
   "cell_type": "code",
   "execution_count": 23,
   "metadata": {},
   "outputs": [
    {
     "data": {
      "text/plain": [
       "['AA', 'AA']"
      ]
     },
     "execution_count": 23,
     "metadata": {},
     "output_type": "execute_result"
    }
   ],
   "source": [
    "re.findall(\"A{2}\",grades)"
   ]
  },
  {
   "cell_type": "code",
   "execution_count": 24,
   "metadata": {},
   "outputs": [
    {
     "data": {
      "text/plain": [
       "[]"
      ]
     },
     "execution_count": 24,
     "metadata": {},
     "output_type": "execute_result"
    }
   ],
   "source": [
    "re.findall(\"A{1,10}B{1,10}C(1,10)\",grades)"
   ]
  },
  {
   "cell_type": "code",
   "execution_count": 37,
   "metadata": {
    "scrolled": false
   },
   "outputs": [
    {
     "data": {
      "text/plain": [
       "'   ****************************************************************\\n   *   Document from the CPSR Privacy/Information Archive         *\\n   *  FTP/Gopher/WAIS: cpsr.org  email: listserv@cpsr.org \"help\"  *\\n   *                                                              *\\n   *    For more information contact: cpsr@csli.stanford.edu      *\\n   *                        415-322-3778                          *\\n   ****************************************************************\\n\\n\\n\\nFamily Educational Right to Privacy Act.  (Buckley Ammendment)\\n\\n(as of 4/93)\\n\\n20 USC  S. 1232g\\n\\n\\nS.  1232g.  Family educational and privacy rights\\n\\n   (a) Conditions for availability of funds to educational agencies or\\ninstitutions; inspection and review of education records; specific\\ninformation to be made available; procedure for access to education\\nrecords; reasonableness of time for such access; hearings; written\\nexplanations by parents; definitions.\\n\\n   (1) (A) No funds shall be made available under any applicable program\\nto any educational agency or institution which has a policy of denying,\\nor which effectively prevents, the parents of students who are or have\\nbeen in attendance at a school of such agency or at such institution, as\\nthe case may be, the right to inspect and review the education records of\\ntheir children. If any material or document in the education record of a\\nstudent includes information on more than one student, the parents of one\\nof such students shall have the right to inspect and review only such\\npart of such material or document as relates to such student or to be\\ninformed of the specific information contained in such part of such\\nmaterial. Each educational agency or institution shall establish\\nappropriate procedures for the granting of a request by parents for\\naccess to the education records of their children within a reasonable\\nperiod of time, but in no case more than forty-five days after the\\nrequest has been made.\\n\\n   (B) The first sentence of subparagraph (A) shall not operate to make\\navailable to students in institutions of postsecondary education the\\nfollowing materials:\\n\\n   (i) financial records of the parents of the student or any information\\ncontained therein;\\n\\n   (ii) confidential letters and statements of recommendation, which were\\nplaced in the education records prior to January 1, 1975, if such letters\\nor statements are not used for purposes other than those for which they\\nwere specifically intended;\\n\\n   (iii) if the student has signed a waiver of the student\\'s right of\\naccess under this subsection in accordance with subparagraph (C),\\nconfidential recommendations--\\n\\n   (I) respecting admission to any educational agency or institution,\\n\\n   (II) respecting an application for employment, and\\n\\n   (III) respecting the receipt of an honor or honorary recognition.\\n\\n   (C) A student or a person applying for admission may waive his right\\nof access to confidential statements described in clause (iii) of\\nsubparagraph (B), except that such waiver shall apply to recommendations\\nonly if (i) the student is, upon request, notified of the names of all\\npersons making confidential recommendations and (ii) such recommendations\\nare used solely for the purpose for which they were specifically\\nintended. Such waivers may not be required as a condition for admission\\nto, receipt of financial aid from, or receipt of any other services or\\nbenefits from such agency or institution.\\n\\n   (2) No funds shall be made available under any applicable program to\\nany educational agency or institution unless the parents of students who\\nare or have been in attendance at a school of such agency or at such\\ninstitution are provided an opportunity for a hearing by such agency or\\ninstitution, in accordance with regulations of the Secretary, to\\nchallenge the content of such student\\'s education records, in order to\\ninsure that the records are not inaccurate, misleading, or otherwise in\\nviolation of the privacy or other rights of students, and to provide an\\nopportunity for the correction or deletion of any such inaccurate,\\nmisleading, or otherwise inappropriate data contained therein and to\\ninsert into such records a written explanation of the parents respecting\\nthe content of such records.\\n\\n   (3) For the purposes of this section the term \"educational agency or\\ninstitution\" means any public or private agency or institution which is\\nthe recipient of funds under any applicable program.\\n\\n   (4) (A) For the purposes of this section, the term \"education records\"\\nmeans, except as may be provided otherwise in subparagraph (B), those\\nrecords, files, documents, and other materials which--\\n\\n   (i) contain information directly related to a student; and\\n\\n   (ii) are maintained by an educational agency or institution or by a\\nperson acting for such agency or institution.\\n\\n   (B) The term \"education records\" does not include--\\n\\n   (i) records of instructional, supervisory, and administrative\\npersonnel and educational personnel ancillary thereto which are in the\\nsole possession of the maker thereof and which are not accessible or\\nrevealed to any other person except a substitute;\\n\\n   (ii) records maintained by a law enforcement unit of the educational\\nagency or institution that were created by that law enforcement unit for\\nthe purpose of law enforcement.\\n\\n   (iii) in the case of persons who are employed by an educational agency\\nor institution but who are not in attendance at such agency or\\ninstitution, records made and maintained in the normal course of business\\nwhich relate exclusively to such person in that person\\'s capacity as an\\nemployee and are not available for use for any other purpose; or\\n\\n   (iv) records on a student who is eighteen years of age or older, or is\\nattending an institution of postsecondary education, which are made or\\nmaintained by a physician, psychiatrist, psychologist, or other\\nrecognized professional or paraprofessional acting in his professional or\\nparaprofessional capacity, or assisting in that capacity, and which are\\nmade, maintained, or used only in connection with the provision of\\ntreatment to the student, and are not available to anyone other than\\npersons providing such treatment, except that such records can be\\npersonally reviewed by a physician or other appropriate professional of\\nthe student\\'s choice.\\n\\n   (5) (A) For the purposes of this section the term \"directory\\ninformation\" relating to a student includes the following: the student\\'s\\nname, address, telephone listing, date and place of birth, major field of\\nstudy, participation in officially recognized activities and sports,\\nweight and height of members of athletic teams, dates of attendance,\\ndegrees and awards received, and the most recent previous educational\\nagency or institution attended by the student.\\n\\n   (B) Any educational agency or institution making public directory\\ninformation shall give public notice of the categories of information\\nwhich it has designated as such information with respect to each student\\nattending the institution or agency and shall allow a reasonable period\\nof time after such notice has been given for a parent to inform the\\ninstitution or agency that any or all of the information designated\\nshould not be released without the parent\\'s prior consent.\\n\\n   (6) For the purposes of this section, the term \"student\" includes any\\nperson with respect to whom an educational agency or institution\\nmaintains education records or personally identifiable information, but\\ndoes not include a person who has not been in attendance at such agency\\nor institution.\\n\\n   (b) Release of education records; parental consent requirement;\\nexceptions; compliance with judicial orders and subpoenas; audit and\\nevaluation of Federally-supported education programs; recordkeeping.\\n\\n   (1) No funds shall be made available under any applicable program to\\nany educational agency or institution which has a policy or practice of\\npermitting the release of educational records (or personally identifiable\\ninformation contained therein other than directory information, as\\ndefined in paragraph (5) of subsection (a)) of students without the\\nwritten consent of their parents to any individual, agency, or\\norganization, other than to the following--\\n\\n   (A) other school officials, including teachers within the educational\\ninstitution or local educational agency, who have been determined by such\\nagency or institution to have legitimate educational interests;\\n\\n   (B) officials of other schools or school systems in which the student\\nseeks or intends to enroll, upon condition that the student\\'s parents be\\nnotified of the transfer, receive a copy of the record if desired, and\\nhave an opportunity for a hearing to challenge the content of the record;\\n\\n   (C) authorized representatives of (i) the Comptroller General of the\\nUnited States, (ii) the Secretary, (iii) an administrative head of an\\neducational agency (as defined in section 408(c) , or (iv) State\\neducational authorities, under the conditions set forth in paragraph (3)\\nof this subsection;\\n\\n   (D) in connection with a student\\'s application for, or receipt of,\\nfinancial aid;\\n\\n   (E) State and local officials or authorities to whom such information\\nis specifically required to be reported or disclosed pursuant to State\\nstatute adopted prior to November 19, 1974;\\n\\n   (F) organizations conducting studies for, or on behalf of, educational\\nagencies or institutions for the purpose of developing, validating, or\\nadministering predictive tests, administering student aid programs, and\\nimproving instruction, if such studies are conducted in such a manner as\\nwill not permit the personal identification of students and their parents\\nby persons other than representatives of such organizations and such\\ninformation will be destroyed when no longer needed for the purpose for\\nwhich it is conducted;\\n\\n   (G) accrediting organizations in order to carry out their accrediting\\nfunctions;\\n\\n   (H) parents of a dependent student of such parents, as defined in\\nsection 152 of the Internal Revenue Code of 1954;  and\\n\\n   (I) subject to regulations of the Secretary, in connection with an\\nemergency, appropriate persons if the knowledge of such information is\\nnecessary to protect\\n\\nthe health or safety of the student or other persons.\\n\\n   Nothing in clause (E) of this paragraph shall prevent a State from\\nfurther limiting the number or type of State or local officials who will\\ncontinue to have access thereunder.\\n\\n   (2) No funds shall be made available under any applicable program to\\nany educational agency or institution which has a policy or practice of\\nreleasing, or providing access to, any personally identifiable\\ninformation in education records other than directory information, or as\\nis permitted under paragraph (1) of this subsection unless--\\n\\n   (A) there is written consent from the student\\'s parents specifying\\nrecords to be released, the reasons for such release, and to whom, and\\nwith a copy of the records to be released to the student\\'s parents and\\nthe student if desired by the parents, or\\n\\n   (B) such information is furnished in compliance with judicial order,\\nor pursuant to any lawfully issued subpoena, upon condition that parents\\nand the students are notified of all such orders or subpoenas in advance\\nof the compliance therewith by the educational institution or agency.\\n\\n   (3) Nothing contained in this section shall preclude authorized\\nrepresentatives of (A) the Comptroller General of the United States, (B)\\nthe Secretary, (C) an administrative head of an education agency or (D)\\nState educational authorities from having access to student or other\\nrecords which may be necessary in connection with the audit and\\nevaluation of Federally-supported education program, or in connection\\nwith the enforcement of the Federal legal requirements which relate to\\nsuch programs: Provided, That except when collection of personally\\nidentifiable information is specifically authorized by Federal law, any\\ndata collected by such officials shall be protected in a manner which\\nwill not permit the personal identification of students and their parents\\nby other than those officials, and such personally identifiable data\\nshall be destroyed when no longer needed for such audit, evaluation, and\\nenforcement of Federal legal requirements.\\n\\n   (4) (A) Each educational agency or institution shall maintain a\\nrecord, kept with the education records of each student, which will\\nindicate all individuals (other than those specified in paragraph (1)(A)\\nof this subsection), agencies, or organizations which have requested or\\nobtained access to a student\\'s education records maintained by such\\neducational agency or institution, and which will indicate specifically\\nthe legitimate interest that each such person, agency, or organization\\nhas in obtaining this information.  Such record of access shall be\\navailable only to parents, to the school official and his assistants who\\nare responsible for the custody of such records, and to persons or\\norganizations authorized in, and under the conditions of, clauses (A) and\\n(C) of paragraph (1) as a means of auditing the operation of the system.\\n\\n   (B) With respect to this subsection, personal information shall only\\nbe transferred to a third party on the condition that such party will not\\npermit any other party to have access to such information without the\\nwritten consent of the parents of the student.\\n\\n   (5) Nothing in this section shall be construed to prohibit State and\\nlocal educational officials from having access to student or other\\nrecords which may be necessary in connection with the audit and\\nevaluation of any federally or State supported education program or in\\nconnection with the enforcement of the Federal legal requirements which\\nrelate to any such program, subject to the conditions specified in the\\nproviso in paragraph (3).\\n\\n   (6) Nothing in this section shall be construed to prohibit an\\ninstitution of postsecondary education from disclosing, to an alleged\\nvictim of any crime of violence (as that term is defined in section 16 of\\ntitle 18, United States Code), the results of any disciplinary proceeding\\nconducted by such institution against the alleged perpetrator of such\\ncrime with respect to such crime.\\n\\n   (c) Surveys or data-gathering activities; regulations.  The Secretary\\nshall adopt appropriate regulations to protect the rights of privacy of\\nstudents and their families in connection with any surveys or\\ndata-gathering activities conducted, assisted, or authorized by the\\nSecretary or an administrative head of an education agency. Regulations\\nestablished under this subsection shall include provisions controlling\\nthe use, dissemination, and protection of such data. No survey or\\ndata-gathering activities shall be conducted by the Secretary, or an\\nadministrative head of an education agency under an applicable program,\\nunless such activities are authorized by law.\\n\\n   (d) Students\\' rather than parents\\' permission or consent.  For the\\npurposes of this section, whenever a student has attained eighteen years\\nof age, or is attending an institution of postsecondary education the\\npermission or consent required of and the rights accorded to the parents\\nof the student shall thereafter only be required of and accorded to the\\nstudent.\\n\\n   (e) Informing parents or students of rights under this section.  No\\nfunds shall be made available under any applicable program to any\\neducational agency or institution unless such agency or institution\\ninforms the parents of students, or the students, if they are eighteen\\nyears of age or older, or are attending an institution of postsecondary\\neducation, of the rights accorded them by this section.\\n\\n   (f) Enforcement; termination of assistance.  The Secretary, or an\\nadministrative head of an education agency, shall take appropriate\\nactions to enforce provisions of this section and to deal with violations\\nof this section, according to the provisions of this Act, except that\\naction to terminate assistance may be taken only if the Secretary finds\\nthere has been a failure to comply with the provisions of this section,\\nand he has determined that compliance cannot be secured by voluntary\\nmeans.\\n\\n   (g) Office and review board; creation; functions.  The Secretary shall\\nestablish or designate an office and review board within the Department\\nof Health, Education, and Welfare for the purpose of investigating,\\nprocessing, reviewing, and adjudicating violations of the provisions of\\nthis section and complaints which may be filed concerning alleged\\nviolations of this section. Except for the conduct of hearings, none of\\nthe functions of the Secretary under this section shall be carried out in\\nany of the regional offices of such Department.\\n\\n'"
      ]
     },
     "execution_count": 37,
     "metadata": {},
     "output_type": "execute_result"
    }
   ],
   "source": [
    "with open(\"Datasets/ferpa.txt\",\"r\") as file:\n",
    "    #we'll read that into a variable called wiki\n",
    "    wiki=file.read()\n",
    "wiki"
   ]
  },
  {
   "cell_type": "code",
   "execution_count": 38,
   "metadata": {},
   "outputs": [
    {
     "data": {
      "text/plain": [
       "[]"
      ]
     },
     "execution_count": 38,
     "metadata": {},
     "output_type": "execute_result"
    }
   ],
   "source": [
    "#if we wanted to get a list of all of the headers in this article\n",
    "re.findall(\"[a-zA-Z]{1,100}\\[edit\\]\",wiki)"
   ]
  },
  {
   "cell_type": "code",
   "execution_count": 36,
   "metadata": {},
   "outputs": [
    {
     "data": {
      "text/plain": [
       "[]"
      ]
     },
     "execution_count": 36,
     "metadata": {},
     "output_type": "execute_result"
    }
   ],
   "source": [
    "re.findall(\"[\\w]{1,100}\\[edit\\]\",wiki)"
   ]
  },
  {
   "cell_type": "code",
   "execution_count": 39,
   "metadata": {},
   "outputs": [
    {
     "data": {
      "text/plain": [
       "[]"
      ]
     },
     "execution_count": 39,
     "metadata": {},
     "output_type": "execute_result"
    }
   ],
   "source": [
    "re.findall(\"[\\w]*\\[edit\\]\",wiki)"
   ]
  },
  {
   "cell_type": "code",
   "execution_count": 40,
   "metadata": {},
   "outputs": [
    {
     "data": {
      "text/plain": [
       "[]"
      ]
     },
     "execution_count": 40,
     "metadata": {},
     "output_type": "execute_result"
    }
   ],
   "source": [
    "re.findall(\"[\\w]*\\[edit\\]\",wiki)"
   ]
  },
  {
   "cell_type": "code",
   "execution_count": 41,
   "metadata": {},
   "outputs": [],
   "source": [
    "for title in re.findall(\"[\\w]*\\[edit\\]\",wiki):\n",
    "    print(re.split(\"[\\[]]\",title)[0])"
   ]
  },
  {
   "cell_type": "markdown",
   "metadata": {},
   "source": [
    "# Groups"
   ]
  },
  {
   "cell_type": "code",
   "execution_count": 42,
   "metadata": {},
   "outputs": [
    {
     "data": {
      "text/plain": [
       "[]"
      ]
     },
     "execution_count": 42,
     "metadata": {},
     "output_type": "execute_result"
    }
   ],
   "source": [
    "re.findall(\"([\\w]*(\\[edit\\]))\",wiki)"
   ]
  },
  {
   "cell_type": "code",
   "execution_count": 44,
   "metadata": {},
   "outputs": [],
   "source": [
    "for item in re.finditer(\"([\\w]*)(\\[edit\\])\",wiki):\n",
    "    print(item.groups())"
   ]
  },
  {
   "cell_type": "code",
   "execution_count": 45,
   "metadata": {},
   "outputs": [],
   "source": [
    "for item in re.finditer(\"([\\w]*)(\\[edit\\])\",wiki):\n",
    "    print(item.group(1))"
   ]
  },
  {
   "cell_type": "code",
   "execution_count": null,
   "metadata": {},
   "outputs": [],
   "source": []
  }
 ],
 "metadata": {
  "kernelspec": {
   "display_name": "Python 3",
   "language": "python",
   "name": "python3"
  },
  "language_info": {
   "codemirror_mode": {
    "name": "ipython",
    "version": 3
   },
   "file_extension": ".py",
   "mimetype": "text/x-python",
   "name": "python",
   "nbconvert_exporter": "python",
   "pygments_lexer": "ipython3",
   "version": "3.7.4"
  }
 },
 "nbformat": 4,
 "nbformat_minor": 2
}
